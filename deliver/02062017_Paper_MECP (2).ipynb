{
 "cells": [
  {
   "cell_type": "code",
   "execution_count": 23,
   "metadata": {
    "collapsed": false
   },
   "outputs": [
    {
     "data": {
      "text/html": [
       "<script>\n",
       "code_show=true; \n",
       "function code_toggle() {\n",
       " if (code_show){\n",
       " $('div.input').hide();\n",
       " } else {\n",
       " $('div.input').show();\n",
       " }\n",
       " code_show = !code_show\n",
       "} \n",
       "$( document ).ready(code_toggle);\n",
       "</script>\n",
       "<form action=\"javascript:code_toggle()\"><input type=\"submit\" value=\"CODE\"></form>"
      ],
      "text/plain": [
       "<IPython.core.display.HTML object>"
      ]
     },
     "execution_count": 23,
     "metadata": {},
     "output_type": "execute_result"
    }
   ],
   "source": [
    "from IPython.display import HTML\n",
    "\n",
    "HTML('''<script>\n",
    "code_show=true; \n",
    "function code_toggle() {\n",
    " if (code_show){\n",
    " $('div.input').hide();\n",
    " } else {\n",
    " $('div.input').show();\n",
    " }\n",
    " code_show = !code_show\n",
    "} \n",
    "$( document ).ready(code_toggle);\n",
    "</script>\n",
    "<form action=\"javascript:code_toggle()\"><input type=\"submit\" value=\"CODE\"></form>''')"
   ]
  },
  {
   "cell_type": "code",
   "execution_count": 60,
   "metadata": {
    "collapsed": false
   },
   "outputs": [],
   "source": [
    "# Importing the libraries:\n",
    "%matplotlib inline\n",
    "import matplotlib.pyplot as plt \n",
    "import matplotlib.image as mpimg\n",
    "import sqlite3 \n",
    "import numpy as np \n",
    "import glob\n",
    "import nibabel as ni \n",
    "from skimage import measure\n",
    "import scipy.misc as misc \n",
    "from nibabel import nifti1 \n",
    "import dtimp as dtimp \n",
    "import functions_will as FW\n",
    "import ia636 as ia\n",
    "import ia870 as MM \n",
    "import sys"
   ]
  },
  {
   "cell_type": "markdown",
   "metadata": {},
   "source": [
    "# Corpus callosum diffusion properties differences in systemic lupus patients\n",
    "\n",
    "`Mariana Eugênia de Carvalho Pereira - IA369Z`\n"
   ]
  },
  {
   "cell_type": "markdown",
   "metadata": {},
   "source": [
    "## Abstract\n",
    "Corpus Callosum (CC) is the largest white matter structure and it plays a crucial role in clinical and research studies due to its shape and volume correlation to subject's characteristics and neurodegenerative diseases. CC segmentation and parcellation are an important step for any medical and research study. To date, magnetic resonance imaging (MRI) is the main tool for evaluate and infer informations about the brain's microstructure because it offers a better tissue contrast.\n",
    "Systemic lupus erythematosus, referred to as SLE or lupus, is a chronic disease that causes systemic inflammation which affects multiple organs. As the central nervous system (CNS) is frequently affected in patients with SLE, several studies have sought a relationship between cerebral and corpus callosum volumes with SLE patients. In this work, we analyse diffusion properties in CC sub-regions between two groups, controls and patients diagnosed with SLE. \n"
   ]
  },
  {
   "cell_type": "markdown",
   "metadata": {},
   "source": [
    "## 1 - Introduction \n",
    "\n",
    "The corpus callosum (CC) is by far the largest fiber bundles in the human brain interconnecting the two cerebral hemispheres with more than 300 million fibers [1]. CC is also the largest white matter structure in the brain, and despite its main functions, several studies have reported its relation to sexual dimorphism [2], handedness [3], and cerebral speech dominance [4]. Other morphometric studies have correlated CC's size in musicians [5] and positive semantic test performance [6]. The importance of CC has grown in the last decades due to its changes in volume associated with neurodegenerative or inflammatory diseases such as Alzheimer's [7] and multiple sclerosis [8]. And also CC seems to be affected by other central nervous system diseases such as epilepsy [9], depression [10], schizophrenia [11], dyslexia [12], and obesity [13]. \n",
    "\n",
    "Systemic lupus erythematosus (SLE), also known simply as lupus, is an autoimmune disease with an incidence of between 2.0 and 7.6 per 100,000 per year [14]. Neurologic and psychiatric symptoms vary from headache, mood disorders, and impairment of cognitive function occur in as many as 70\\% of patients with SLE [15]. The cause remains unclear and it is believed to involve hormonal, environmental, and genetic factors. Several studies have found a relationship between corpus callosum volume and its association with the disease duration [16]. \n",
    "\n",
    "Diffusion MRI makes the study of neuronal fibers and tissues microstructure possible through the diffusion model. Diffusion MRI measures the dephasing of spins of protons in the presence of a spatially-varying magnetic field. The signal attenuation reflects the general mobility of water molecules, depending on temperature, viscosity and presence of large molecules. It also depends on barriers and obstacles imposed by microstructure, cell membranes, myelin sheaths and microtubules [17].\n",
    "\n",
    "Other MRI modality known as diffusion tensor imaging (DTI) revolutionized the field of white matter mapping. DTI takes advantage of the macroscopic geometrical arrangement of white matter bundles that becomes apparent through diffusion MRI measurements [18]. Due to CC's well-oriented fibers perpendicular to the sagittal plane and its high anisotropy [19], DTI is capable of generating good CC visualization. \n",
    "\n",
    "Image segmentation is commonly used for measuring and visualizing the brain’s anatomical structures in MRI images, and to facilitate the analyses, the CC is commonly parceled into smaller portions. Even though manual segmentation is the gold standard, it is subjective, time consuming, and requires specialist knowledge. Which leads to low repeatability for large number of patients. Automatic segmentation turns out to be a resonable solution, although there are several limitations due to DTI images and CC shape variability among subjects [20]. The partitioning of CC has been an object of interest for radiologic assessment. The first approach was carried out by Witelson in 1989 and was originated from non-human primates [20]. Several posterior studies rely on Witelson's classification such as the method proposed by Hofer [1]. "
   ]
  },
  {
   "cell_type": "markdown",
   "metadata": {},
   "source": [
    "###  1.1 - Reproducible Objective Quantification Scheme (ROQS)\n",
    "\n",
    "ROQS is a semi-automated segmentation process that requires four steps to segment white matter structures. A manual identification of the anatomical structure should be done and a seed placement is the first step towards the segmentation process. Secondly, the determination of of thresholds and selection criteria. The third step is to create a binary mask and the last step is to calculate the boundary of the structure of interest. \n",
    "\n",
    "Based on the fact that mostly white matter scructures of the brain have their axis of greatest diffusivity oriented predominantly along one of the three cardinal directions, the first calculation of the ROQS algorithm is to determine the x, y, and z componentes of the principal eigenvector of the seed pixel, where the principal eigenvector denotes de direction of maximal diffusivity [16]. Restricting the selection to pixels with the same maximum components of the principal eigenvector as the seed pixel is the first criteria. The next step is the calculation of the magnification array: \n",
    "\n",
    "\n",
    "$$ MagnificationArray = \\frac{\\text{FA}-\\max(\\text{FA})*\\alpha}{\\max(\\text{FA})*\\beta}+\\gamma $$\n",
    "\n",
    "Where $\\alpha$, $\\beta$ e $\\gamma$ are constants previously defined empirically by the author. The pixels whose anisotropy value is close to the seed's value are selected and then finally pixels are restricted to those with the maximum component value greater than the maximum component of the seed pixel minus 0.2. This threshold dependent on the seed, as opposed to a constant value, is used to adjust for variations in MR scanners and variations in diffusion properties in various areas of the brain. A value of 0.2 is chosen because diffusion properties within major white matter tracts are slightly heterogeneous [16]. The third step is the creation of a binary mask, where pixels that fit the previous criteria are assigned a value of one and all others are assigned a value of zero. Finally, the last step in ROQS is to determine the boundary of the CC by connecting all boundary pixels assigned with value of one, but have an adjacent zero valued pixel.\n"
   ]
  },
  {
   "cell_type": "markdown",
   "metadata": {},
   "source": [
    "\n",
    "### 1.2 - Witelson's Parcellation Method\n",
    "\n",
    "The Witelson's Partitioning defines five callosal regions based on dividing the CC along its anterior-posterior dimension [18]. The CC is subdivided into regions comprising the anterior third, the anterior and posterior midbody, the posterior third, and the posterior one-fifth. Compartments of the anterior third, including the rostrum, genu, and rostral body, are assigned to prefrontal, premotor, and supplementary motor cortical areas. Fibers originating in the motor cortex are assumed to cross the CC through the anterior midbody, whereas somaesthetic and posterior parietal fiber bundles cross the CC through the posterior midbody. Compartments of the posterior third, including the isthmus and splenium, are assigned to temporal, parietal, and occipital cortical regions. It should be noted, however, that neither Witelson's classification nor other geometric partitioning schemes exactly mirror the texture of the\n",
    "CC at the cellular level [1].\n",
    "\n",
    "### 1.3 - Hofer and Frahm's Parcellation Method\n",
    "\n",
    "The Hofer and Frahm parcellation method incorporates a geometric representation of the five subregions of the CC based on diffusion imaging fiber tractography. A geometric baseline was defined in the midsagittal section of the CC and connected the anterior and posterior points of the structure. After fiber tracking, the CC regions crossed by fibers belonging to defined cortical areas provided a natural segmentation [1]. These maximum segments were used as border lines and projected the baseline.  The callosal parietal, temporal, and occipital fiber bundles overlapped and could not be separated by vertical lines. They constitute the most posterior region of the CC. The figure below shows an example of the difference between Witelson's (top) and Hofer and Frahm (bottom) parcellation methods:\n",
    "\n",
    "<img src=\"WandHschemes.png\">"
   ]
  },
  {
   "cell_type": "markdown",
   "metadata": {},
   "source": [
    "## 2 - Methodology\n",
    "\n",
    "### 2.1 - Subjects and Image Acquisition\n",
    "\n",
    "For experiments, DWI from 14 subjects at the University of Campinas, were acquired on a Philips scanner Achieva 3T in the axial plane with a $1x1mm$ spatial resolution and $2mm$ slice thickness, along $32$ directions ($b-value=1000s/mm^2$, $TR=8.5s$, and $TE=61ms$). All data used in this experiment was acquired through a project approved by the research ethics committee from the School of Medicine at UNICAMP. From each acquired DWI volume, only the midsaggital slice was used.\n",
    " "
   ]
  },
  {
   "cell_type": "markdown",
   "metadata": {},
   "source": [
    "### 2.2 - Workflow\n",
    "\n",
    "The dataset is composed by 3 controls and 6 patients diagnosed with SLE. The DWI input data from each subject followed the process above:\n",
    "\n",
    "<img src=\"WorkFlow_Done.png\">"
   ]
  },
  {
   "cell_type": "markdown",
   "metadata": {},
   "source": [
    "### 2.3 - Segmentation and Parcellation\n",
    "\n",
    "The dataset is composed by 3 controls and 6 patients diagnosed with SLE. The corpus callosum of each subject was segmented using the ROQS method and parcellated using two different methods, Witelson and Hofer and Frahm. "
   ]
  },
  {
   "cell_type": "markdown",
   "metadata": {},
   "source": [
    "#### Segmentation:"
   ]
  },
  {
   "cell_type": "code",
   "execution_count": 61,
   "metadata": {
    "collapsed": false
   },
   "outputs": [],
   "source": [
    "# Defining the functions we will use to segment and parcelate:\n",
    "def run_analysis(rootdir):  \n",
    "\n",
    "    eigvals, eigvects, T3 = dtimp.loadNiftiDTI(rootdir, reorient=True)\n",
    "\n",
    "    FA,MD = dtimp.getFractionalAnisotropy(eigvals)\n",
    "    FA[np.isnan(FA)] = 0\n",
    "    FA[FA>1] = 1\n",
    "\n",
    "    fissure, FA_mean = dtimp.getFissureSlice(eigvals, FA)\n",
    "\n",
    "    wFA = FA*abs(eigvects[0,0]) #weighted FA\n",
    "    \n",
    "    return wFA, FA, MD, fissure, eigvals, eigvects\n",
    "\n",
    "def corpusCallosumParcellationGeometric (segmentation, scheme = 'HOFER'):\n",
    "    \n",
    "    SCHEMES = ['HOFER', 'WITELSON']\n",
    "    scheme = scheme.upper()\n",
    "    if not scheme in SCHEMES:\n",
    "        raise Exception('Unknown scheme!')\n",
    "\n",
    "    def coef_linear (a, p):\n",
    "        return p[0]-a*p[1] \n",
    "\n",
    "    def predicty(x, a, b):\n",
    "        return a*x + b\n",
    "\n",
    "    def predictx(y, a, b):\n",
    "        return (y-b)/a\n",
    "\n",
    "    # Base and normal vectors \n",
    "    M,N = np.nonzero(segmentation)\n",
    "    minN = np.min(N)\n",
    "    maxN = np.max(N)\n",
    "    minM = segmentation[:,minN].nonzero()[0].mean()\n",
    "    maxM = segmentation[:,maxN].nonzero()[0].mean()\n",
    "    p1 = np.array([minM, minN])\n",
    "    p2 = np.array([maxM, maxN])\n",
    "\n",
    "    base_v = p2 - p1\n",
    "    base_length = np.sqrt((base_v**2).sum())\n",
    "    base_v = base_v / np.sqrt((base_v**2).sum())\n",
    "    cut_v = np.array([-base_v[1], base_v[0]])\n",
    "\n",
    "    # Line's coefficients\n",
    "    hofer = np.array([1.0/6, 1.0/2, 2.0/3, 3.0/4]).reshape(4,1)\n",
    "    witelson = np.array([1.0/3, 1.0/2, 2.0/3, 4.0/5]).reshape(4,1)\n",
    "\n",
    "    if scheme == 'HOFER':\n",
    "        P = p1 + hofer*base_length*base_v\n",
    "\n",
    "    if scheme == 'WITELSON':\n",
    "        P = p1 + witelson*base_length*base_v\n",
    "\n",
    "    p3, p4, p5, p6 = P\n",
    "\n",
    "    rbase_A = base_v[0]/base_v[1]\n",
    "    rbase_B = p1[0]-rbase_A*p1[1]\n",
    "    rA = cut_v[0]/cut_v[1]\n",
    "    r3B = coef_linear(rA, p3)\n",
    "    r4B = coef_linear(rA, p4)\n",
    "    r5B = coef_linear(rA, p5)\n",
    "    r6B = coef_linear(rA, p6)\n",
    "\n",
    "    # Rotulating the mask    \n",
    "    H,W = np.shape(segmentation)\n",
    "    Parcellation = np.zeros((H,W), dtype='int')\n",
    "\n",
    "    y,x = segmentation.nonzero()\n",
    "    labels = np.zeros(y.size, dtype='int')\n",
    "    above_base = y <= predicty(x, rbase_A, rbase_B)\n",
    "    left_r3 = x <= predictx(y, rA, r3B)\n",
    "    left_r4 = x <= predictx(y, rA, r4B)\n",
    "    left_r5 = x <= predictx(y, rA, r5B)\n",
    "    left_r6 = x <= predictx(y, rA, r6B)\n",
    "\n",
    "    labels[np.logical_and(left_r3==False, left_r4)] = 2\n",
    "    labels[np.logical_and(left_r4==False, left_r5)] = 3\n",
    "    labels[np.logical_and(left_r5==False, left_r6)] = 4\n",
    "    labels[np.logical_or(np.logical_and(above_base==False, left_r4), left_r3)] = 1\n",
    "    labels[np.logical_or(np.logical_and(above_base==False, left_r5==False), left_r6==False)] = 5\n",
    "\n",
    "    Parcellation[segmentation] = labels\n",
    "    return Parcellation "
   ]
  },
  {
   "cell_type": "code",
   "execution_count": null,
   "metadata": {
    "collapsed": true
   },
   "outputs": [],
   "source": [
    "# Defining the path: \n",
    "dir_bas = \"/Users/mariecp/DTI_IA369/candidates\"\n",
    "dirs = glob.glob(dir_bas+\"/*C*\")\n",
    "\n",
    "acumC = np.zeros((3,6,4))\n",
    "acumC2 = np.zeros((3,6,4))\n",
    "indx = 0 \n",
    "\n",
    "for candidate in dirs: \n",
    "\n",
    "    wFA, FA, MD, fissure, eigvals, eigvects = run_analysis(candidate)\n",
    "    escala = [3*FA[fissure,:,:].shape[-2],2*FA[fissure,:,:].shape[-1]]\n",
    "    wFA_ms = wFA[fissure,:,:]\n",
    "    eigvects_ms = abs(eigvects[0,:,fissure]) \n",
    "\n",
    "    wFA_ss = np.load(candidate+'/segmentacao/wFA_ss.npy').astype(np.bool)\n",
    "    escala = [wFA_ss.shape[-2],wFA_ss.shape[-1]]\n",
    "    teste = mpimg.imread(candidate+'/mask_AF.png')[:,:,0]\n",
    "    mask_p3 = np.array(teste).astype(np.bool)\n",
    "    mask_sem = misc.imresize(mask_p3,escala).astype(bool)\n",
    "    con_mask_cc = np.logical_xor(MM.iaero(mask_sem),mask_sem)\n",
    "    \n",
    "    # ROQS code:\n",
    "    seg_mask_seed_ero = MM.iaero(mask_sem)\n",
    "    ar_cc = np.sum(seg_mask_seed_ero)\n",
    "    in_random = np.random.randint(ar_cc)\n",
    "    seed = [np.nonzero(seg_mask_seed_ero)[0][in_random],np.nonzero(seg_mask_seed_ero)[1][in_random]]\n",
    "\n",
    "\n",
    "    max_comp_in = np.argmax(eigvects_ms[:,seed[0],seed[1]],axis=0)\n",
    "    max_comp_in = np.argmax(ia.iahistogram(max_comp_in))\n",
    "    Cmax_seed = eigvects_ms[max_comp_in,seed[0],seed[1]]\n",
    "\n",
    "    princ = np.argmax(eigvects_ms,axis=0)\n",
    "    fsc = princ == max_comp_in\n",
    "\n",
    "    alpha = 0.3\n",
    "    beta = 0.3\n",
    "    gamma = 0.5\n",
    "    FA_ms = FA[fissure]\n",
    "    MA = (FA_ms-np.amax(FA_ms)*alpha)/(np.amax(FA_ms)*beta)+gamma\n",
    "    ssc = np.clip(np.amax(eigvects_ms*MA,axis=0),0,1)\n",
    "    ssc = ssc*fsc\n",
    "    mask_cc = ssc > Cmax_seed-0.1\n",
    "    fr = MM.ialabel(mask_cc)\n",
    "    fra = MM.iablob(fr,'area')\n",
    "    mask_cc = fra == np.unique(fra)[-1]\n",
    "    np.save(candidate+'/segmentacao/mask_ROQS', mask_cc)\n",
    "    segmentation = mask_cc # Saving the segmentation mask \n",
    "\n",
    "    # Parcelattion code:\n",
    "    Ts = np.array([[4.0,0,0],[0,4,0],[0,0,1]])\n",
    "    t = 0.2\n",
    "    wFA_slice = wFA[fissure]\n",
    "    FA_slice = FA[fissure]\n",
    "    MD_slice = MD[fissure]\n",
    "    fc = 8.0\n",
    "    Ts = np.array([[fc,0,0],[0,fc,0],[0,0,1]])\n",
    "\n",
    "    #Hofer and Frahm code:\n",
    "    scheme = 'HOFER'\n",
    "    geometricw = corpusCallosumParcellationGeometric(segmentation, scheme)\n",
    "\n",
    "    # If you would like to see the segmentation and parcellation images, discomment the lines below:\n",
    "    hofer = geometricw\n",
    "\n",
    "    labels = geometricw.max(axis=0)\n",
    "    labels = labels[labels[:-1]!=labels[1:]][1:].copy()    \n",
    "    measuresw = []\n",
    "    measuresw.append([FA_slice[segmentation].mean(), FA_slice[segmentation].std(), MD_slice[segmentation].mean(), MD_slice[segmentation].std()])\n",
    "    for l in labels:\n",
    "        selection = (geometricw==l)\n",
    "        measuresw.append([FA_slice[selection].mean(), FA_slice[selection].std(), MD_slice[selection].mean(), MD_slice[selection].std()])\n",
    "    measuresw = np.array(measuresw)\n",
    "\n",
    "    acumC[indx] = measuresw\n",
    "    \n",
    "\n",
    "    #Witelson code:\n",
    "    scheme = 'WITELSON'\n",
    "    geometricw = corpusCallosumParcellationGeometric(segmentation, scheme)\n",
    "    \n",
    "\n",
    "    labels = geometricw.max(axis=0)\n",
    "    labels = labels[labels[:-1]!=labels[1:]][1:].copy()    \n",
    "    measuresw = []\n",
    "    measuresw.append([FA_slice[segmentation].mean(), FA_slice[segmentation].std(), MD_slice[segmentation].mean(), MD_slice[segmentation].std()])\n",
    "    for l in labels:\n",
    "        selection = (geometricw==l)\n",
    "        measuresw.append([FA_slice[selection].mean(), FA_slice[selection].std(), MD_slice[selection].mean(), MD_slice[selection].std()])\n",
    "    measuresw = np.array(measuresw)\n",
    "  \n",
    "    acumC2[indx] = measuresw\n",
    "    indx += 1  "
   ]
  },
  {
   "cell_type": "code",
   "execution_count": 63,
   "metadata": {
    "collapsed": false
   },
   "outputs": [
    {
     "data": {
      "text/plain": [
       "<matplotlib.text.Text at 0x117621c50>"
      ]
     },
     "execution_count": 63,
     "metadata": {},
     "output_type": "execute_result"
    },
    {
     "data": {
      "image/png": "[encoded data removed]",
      "text/plain": [
       "<matplotlib.figure.Figure at 0x11503f590>"
      ]
     },
     "metadata": {},
     "output_type": "display_data"
    }
   ],
   "source": [
    "plt.figure(figsize=(10,10))\n",
    "plt.imshow(ia.ianormalize(segmentation[20:40,90:165]))\n",
    "plt.title('Segmentation mask of one the subjects.')"
   ]
  },
  {
   "cell_type": "markdown",
   "metadata": {},
   "source": [
    "#### Hofer and Frahm Parcellation:"
   ]
  },
  {
   "cell_type": "code",
   "execution_count": 64,
   "metadata": {
    "collapsed": false
   },
   "outputs": [
    {
     "data": {
      "text/plain": [
       "<matplotlib.text.Text at 0x1186450d0>"
      ]
     },
     "execution_count": 64,
     "metadata": {},
     "output_type": "execute_result"
    },
    {
     "data": {
      "image/png": "[encoded data removed]",
      "text/plain": [
       "<matplotlib.figure.Figure at 0x1173117d0>"
      ]
     },
     "metadata": {},
     "output_type": "display_data"
    }
   ],
   "source": [
    "plt.figure(figsize=(10,10))\n",
    "plt.imshow(ia.ianormalize(hofer[20:40,90:165]))\n",
    "plt.title('Example of Hofer and Frahm parcellation for one of the subjects.')"
   ]
  },
  {
   "cell_type": "markdown",
   "metadata": {},
   "source": [
    "#### Witelson Parcellation:"
   ]
  },
  {
   "cell_type": "code",
   "execution_count": null,
   "metadata": {
    "collapsed": true
   },
   "outputs": [],
   "source": [
    "# Defining the path: \n",
    "dir_bas = \"/Users/mariecp/DTI_IA369/candidates\"\n",
    "dirs = glob.glob(dir_bas+\"/*P*\")\n",
    "\n",
    "acumP = np.zeros((6,6,4))\n",
    "acumP2 = np.zeros((6,6,4))\n",
    "indx = 0 \n",
    "\n",
    "for candidate in dirs: \n",
    "\n",
    "    wFA, FA, MD, fissure, eigvals, eigvects = run_analysis(candidate)\n",
    "    escala = [3*FA[fissure,:,:].shape[-2],2*FA[fissure,:,:].shape[-1]]\n",
    "    wFA_ms = wFA[fissure,:,:]\n",
    "    eigvects_ms = abs(eigvects[0,:,fissure]) \n",
    "\n",
    "    wFA_ss = np.load(candidate+'/segmentacao/wFA_ss.npy').astype(np.bool)\n",
    "    escala = [wFA_ss.shape[-2],wFA_ss.shape[-1]]\n",
    "    teste = mpimg.imread(candidate+'/mask_AF.png')[:,:,0]\n",
    "    mask_p3 = np.array(teste).astype(np.bool)\n",
    "    mask_sem = misc.imresize(mask_p3,escala).astype(bool)\n",
    "    con_mask_cc = np.logical_xor(MM.iaero(mask_sem),mask_sem)\n",
    "    \n",
    "    # ROQS code:\n",
    "    seg_mask_seed_ero = MM.iaero(mask_sem)\n",
    "    ar_cc = np.sum(seg_mask_seed_ero)\n",
    "    in_random = np.random.randint(ar_cc)\n",
    "    seed = [np.nonzero(seg_mask_seed_ero)[0][in_random],np.nonzero(seg_mask_seed_ero)[1][in_random]]\n",
    "\n",
    "\n",
    "    max_comp_in = np.argmax(eigvects_ms[:,seed[0],seed[1]],axis=0)\n",
    "    max_comp_in = np.argmax(ia.iahistogram(max_comp_in))\n",
    "    Cmax_seed = eigvects_ms[max_comp_in,seed[0],seed[1]]\n",
    "\n",
    "    princ = np.argmax(eigvects_ms,axis=0)\n",
    "    fsc = princ == max_comp_in\n",
    "\n",
    "    alpha = 0.3\n",
    "    beta = 0.3\n",
    "    gamma = 0.5\n",
    "    FA_ms = FA[fissure]\n",
    "    MA = (FA_ms-np.amax(FA_ms)*alpha)/(np.amax(FA_ms)*beta)+gamma\n",
    "    ssc = np.clip(np.amax(eigvects_ms*MA,axis=0),0,1)\n",
    "    ssc = ssc*fsc\n",
    "    mask_cc = ssc > Cmax_seed-0.1\n",
    "    fr = MM.ialabel(mask_cc)\n",
    "    fra = MM.iablob(fr,'area')\n",
    "    mask_cc = fra == np.unique(fra)[-1]\n",
    "    np.save(candidate+'/segmentacao/mask_ROQS', mask_cc)\n",
    "    segmentation = mask_cc # Saving the segmentation mask \n",
    "\n",
    "    # Parcelattion code:\n",
    "    Ts = np.array([[4.0,0,0],[0,4,0],[0,0,1]])\n",
    "    t = 0.2\n",
    "    wFA_slice = wFA[fissure]\n",
    "    FA_slice = FA[fissure]\n",
    "    MD_slice = MD[fissure]\n",
    "    fc = 8.0\n",
    "    Ts = np.array([[fc,0,0],[0,fc,0],[0,0,1]])\n",
    "\n",
    "    #Hofer and Frahm code:\n",
    "    scheme = 'HOFER'\n",
    "    geometricw = corpusCallosumParcellationGeometric(segmentation, scheme)\n",
    "\n",
    "    # If you would like to see the segmentation and parcellation images, discomment the lines below:\n",
    "    \n",
    "    #plt.figure(figsize=(10,10))\n",
    "    #plt.imshow(ia.ianormalize(segmentation))\n",
    "    #plt.figure(2)\n",
    "    #plt.figure(figsize=(10,10))\n",
    "    #plt.imshow(ia.ianormalize(geometricw))\n",
    "\n",
    "    labels = geometricw.max(axis=0)\n",
    "    labels = labels[labels[:-1]!=labels[1:]][1:].copy()    \n",
    "    measuresw = []\n",
    "    measuresw.append([FA_slice[segmentation].mean(), FA_slice[segmentation].std(), MD_slice[segmentation].mean(), MD_slice[segmentation].std()])\n",
    "    for l in labels:\n",
    "        selection = (geometricw==l)\n",
    "        measuresw.append([FA_slice[selection].mean(), FA_slice[selection].std(), MD_slice[selection].mean(), MD_slice[selection].std()])\n",
    "    measuresw = np.array(measuresw)\n",
    "\n",
    "    acumP[indx] = measuresw\n",
    "    \n",
    "\n",
    "    #Witelson code:\n",
    "    scheme = 'WITELSON'\n",
    "    geometricw = corpusCallosumParcellationGeometric(segmentation, scheme)\n",
    "\n",
    "    # If you would like to see the segmentation and parcellation images, discomment the lines below:\n",
    "    \n",
    "    #plt.figure(figsize=(10,10))\n",
    "    #plt.imshow(ia.ianormalize(segmentation))\n",
    "    #plt.figure(2)\n",
    "    #plt.figure(figsize=(10,10))\n",
    "    #plt.imshow(ia.ianormalize(geometricw))\n",
    "\n",
    "    labels = geometricw.max(axis=0)\n",
    "    labels = labels[labels[:-1]!=labels[1:]][1:].copy()    \n",
    "    measuresw = []\n",
    "    measuresw.append([FA_slice[segmentation].mean(), FA_slice[segmentation].std(), MD_slice[segmentation].mean(), MD_slice[segmentation].std()])\n",
    "    for l in labels:\n",
    "        selection = (geometricw==l)\n",
    "        measuresw.append([FA_slice[selection].mean(), FA_slice[selection].std(), MD_slice[selection].mean(), MD_slice[selection].std()])\n",
    "    measuresw = np.array(measuresw)\n",
    "    \n",
    "    acumP2[indx] = measuresw\n",
    "    indx += 1"
   ]
  },
  {
   "cell_type": "markdown",
   "metadata": {},
   "source": [
    "- Controls: "
   ]
  },
  {
   "cell_type": "code",
   "execution_count": 66,
   "metadata": {
    "collapsed": false,
    "scrolled": false
   },
   "outputs": [
    {
     "name": "stdout",
     "output_type": "stream",
     "text": [
      "=====================================================\n",
      "           Hofer and Frahm Parcellation \n",
      "=====================================================\n",
      "           FA (mean)   FA (std)  MD (mean)  MD (std)\n",
      "Corpus : 7.241e-01, 1.379e-01, 7.319e-04, 1.683e-04\n",
      "Slice 1: 7.474e-01, 1.517e-01, 7.535e-04, 1.679e-04\n",
      "Slice 2: 6.803e-01, 1.268e-01, 6.733e-04, 1.534e-04\n",
      "Slice 3: 7.034e-01, 1.196e-01, 6.577e-04, 9.540e-05\n",
      "Slice 4: 6.666e-01, 1.175e-01, 7.815e-04, 1.096e-04\n",
      "Slice 5: 7.475e-01, 1.175e-01, 7.703e-04, 1.843e-04\n",
      "\n",
      "\n",
      "=====================================================\n",
      "           Witelson Parcellation \n",
      "=====================================================\n",
      "           FA (mean)   FA (std)  MD (mean)  MD (std)\n",
      "Corpus : 7.241e-01, 1.379e-01, 7.319e-04, 1.683e-04\n",
      "Slice 1: 7.327e-01, 1.440e-01, 7.295e-04, 1.653e-04\n",
      "Slice 2: 6.603e-01, 1.346e-01, 6.680e-04, 1.579e-04\n",
      "Slice 3: 7.034e-01, 1.196e-01, 6.577e-04, 9.540e-05\n",
      "Slice 4: 6.910e-01, 1.230e-01, 7.806e-04, 1.308e-04\n",
      "Slice 5: 7.506e-01, 1.230e-01, 7.672e-04, 1.830e-04\n"
     ]
    }
   ],
   "source": [
    "# Calculating the average for all controls:\n",
    "auxcumC = np.average(acumC,axis=0)\n",
    "auxcumC2 = np.average(acumC2,axis=0)\n",
    "\n",
    "print '====================================================='\n",
    "print '           Hofer and Frahm Parcellation '\n",
    "print '====================================================='\n",
    "print '           FA (mean)   FA (std)  MD (mean)  MD (std)'\n",
    "print('Corpus : %.3e, %.3e, %.3e, %.3e' %(auxcumC[0,0], auxcumC[0,1],auxcumC[0,2],auxcumC[0,3]))\n",
    "print('Slice 1: %.3e, %.3e, %.3e, %.3e' %(auxcumC[1,0], auxcumC[1,1],auxcumC[1,2],auxcumC[1,3]))\n",
    "print('Slice 2: %.3e, %.3e, %.3e, %.3e' %(auxcumC[2,0], auxcumC[2,1],auxcumC[2,2],auxcumC[2,3]))\n",
    "print('Slice 3: %.3e, %.3e, %.3e, %.3e' %(auxcumC[3,0], auxcumC[3,1],auxcumC[3,2],auxcumC[3,3]))\n",
    "print('Slice 4: %.3e, %.3e, %.3e, %.3e' %(auxcumC[4,0], auxcumC[4,1],auxcumC[4,2],auxcumC[4,3]))\n",
    "print('Slice 5: %.3e, %.3e, %.3e, %.3e' %(auxcumC[5,0], auxcumC[4,1],auxcumC[5,2],auxcumC[5,3]))\n",
    "print('\\n')\n",
    "print '====================================================='\n",
    "print '           Witelson Parcellation '\n",
    "print '====================================================='\n",
    "print '           FA (mean)   FA (std)  MD (mean)  MD (std)'\n",
    "print('Corpus : %.3e, %.3e, %.3e, %.3e' %(auxcumC2[0,0], auxcumC2[0,1],auxcumC2[0,2],auxcumC2[0,3]))\n",
    "print('Slice 1: %.3e, %.3e, %.3e, %.3e' %(auxcumC2[1,0], auxcumC2[1,1],auxcumC2[1,2],auxcumC2[1,3]))\n",
    "print('Slice 2: %.3e, %.3e, %.3e, %.3e' %(auxcumC2[2,0], auxcumC2[2,1],auxcumC2[2,2],auxcumC2[2,3]))\n",
    "print('Slice 3: %.3e, %.3e, %.3e, %.3e' %(auxcumC2[3,0], auxcumC2[3,1],auxcumC2[3,2],auxcumC2[3,3]))\n",
    "print('Slice 4: %.3e, %.3e, %.3e, %.3e' %(auxcumC2[4,0], auxcumC2[4,1],auxcumC2[4,2],auxcumC2[4,3]))\n",
    "print('Slice 5: %.3e, %.3e, %.3e, %.3e' %(auxcumC2[5,0], auxcumC2[4,1],auxcumC2[5,2],auxcumC2[5,3]))\n"
   ]
  },
  {
   "cell_type": "markdown",
   "metadata": {},
   "source": [
    "- Patients:"
   ]
  },
  {
   "cell_type": "code",
   "execution_count": 67,
   "metadata": {
    "collapsed": false
   },
   "outputs": [
    {
     "name": "stdout",
     "output_type": "stream",
     "text": [
      "=====================================================\n",
      "           Hofer and Frahm Parcellation \n",
      "=====================================================\n",
      "           FA (mean)   FA (std)  MD (mean)  MD (std)\n",
      "Corpus : 6.460e-01, 1.521e-01, 7.785e-04, 3.376e-04\n",
      "Slice 1: 6.741e-01, 1.439e-01, 7.643e-04, 3.004e-04\n",
      "Slice 2: 6.172e-01, 1.415e-01, 7.274e-04, 2.826e-04\n",
      "Slice 3: 6.301e-01, 1.463e-01, 7.565e-04, 3.147e-04\n",
      "Slice 4: 6.144e-01, 1.435e-01, 8.240e-04, 3.038e-04\n",
      "Slice 5: 6.512e-01, 1.435e-01, 8.229e-04, 3.747e-04\n",
      "\n",
      "\n",
      "=====================================================\n",
      "           Witelson Parcellation \n",
      "=====================================================\n",
      "           FA (mean)   FA (std)  MD (mean)  MD (std)\n",
      "Corpus : 6.460e-01, 1.521e-01, 7.785e-04, 3.376e-04\n",
      "Slice 1: 6.592e-01, 1.468e-01, 7.622e-04, 3.002e-04\n",
      "Slice 2: 6.112e-01, 1.351e-01, 6.968e-04, 2.598e-04\n",
      "Slice 3: 6.301e-01, 1.463e-01, 7.565e-04, 3.147e-04\n",
      "Slice 4: 6.187e-01, 1.500e-01, 8.226e-04, 3.280e-04\n",
      "Slice 5: 6.535e-01, 1.500e-01, 8.238e-04, 3.778e-04\n"
     ]
    }
   ],
   "source": [
    "# Calculating the average for all patients:\n",
    "auxcumP = np.average(acumP,axis=0)\n",
    "auxcumP2 = np.average(acumP2,axis=0)\n",
    "\n",
    "print '====================================================='\n",
    "print '           Hofer and Frahm Parcellation '\n",
    "print '====================================================='\n",
    "print '           FA (mean)   FA (std)  MD (mean)  MD (std)'\n",
    "print('Corpus : %.3e, %.3e, %.3e, %.3e' %(auxcumP[0,0], auxcumP[0,1],auxcumP[0,2],auxcumP[0,3]))\n",
    "print('Slice 1: %.3e, %.3e, %.3e, %.3e' %(auxcumP[1,0], auxcumP[1,1],auxcumP[1,2],auxcumP[1,3]))\n",
    "print('Slice 2: %.3e, %.3e, %.3e, %.3e' %(auxcumP[2,0], auxcumP[2,1],auxcumP[2,2],auxcumP[2,3]))\n",
    "print('Slice 3: %.3e, %.3e, %.3e, %.3e' %(auxcumP[3,0], auxcumP[3,1],auxcumP[3,2],auxcumP[3,3]))\n",
    "print('Slice 4: %.3e, %.3e, %.3e, %.3e' %(auxcumP[4,0], auxcumP[4,1],auxcumP[4,2],auxcumP[4,3]))\n",
    "print('Slice 5: %.3e, %.3e, %.3e, %.3e' %(auxcumP[5,0], auxcumP[4,1],auxcumP[5,2],auxcumP[5,3]))\n",
    "print('\\n')\n",
    "print '====================================================='\n",
    "print '           Witelson Parcellation '\n",
    "print '====================================================='\n",
    "print '           FA (mean)   FA (std)  MD (mean)  MD (std)'\n",
    "print('Corpus : %.3e, %.3e, %.3e, %.3e' %(auxcumP2[0,0], auxcumP2[0,1],auxcumP2[0,2],auxcumP2[0,3]))\n",
    "print('Slice 1: %.3e, %.3e, %.3e, %.3e' %(auxcumP2[1,0], auxcumP2[1,1],auxcumP2[1,2],auxcumP2[1,3]))\n",
    "print('Slice 2: %.3e, %.3e, %.3e, %.3e' %(auxcumP2[2,0], auxcumP2[2,1],auxcumP2[2,2],auxcumP2[2,3]))\n",
    "print('Slice 3: %.3e, %.3e, %.3e, %.3e' %(auxcumP2[3,0], auxcumP2[3,1],auxcumP2[3,2],auxcumP2[3,3]))\n",
    "print('Slice 4: %.3e, %.3e, %.3e, %.3e' %(auxcumP2[4,0], auxcumP2[4,1],auxcumP2[4,2],auxcumP2[4,3]))\n",
    "print('Slice 5: %.3e, %.3e, %.3e, %.3e' %(auxcumP2[5,0], auxcumP2[4,1],auxcumP2[5,2],auxcumP2[5,3]))\n"
   ]
  },
  {
   "cell_type": "markdown",
   "metadata": {},
   "source": [
    "As que could see from the tables above, there is not a significant difference in the diffusion properties between the two groups. We believe this is due to the small size of the subjects aquired. As many studies have reported significant differences in CC volume in lupus we spect to increase the number of subjets for further analyses. "
   ]
  },
  {
   "cell_type": "markdown",
   "metadata": {},
   "source": [
    "## 5 - References \n",
    "\n",
    "[1] HOFER, Sabine; FRAHM, Jens. Topography of the human corpus callosum revisited—comprehensive fiber tractography using diffusion tensor magnetic resonance imaging. Neuroimage, v. 32, n. 3, p. 989-994, 2006.\n",
    "\n",
    "[2] WITELSON, S.F., 1989. Hand and sex differences in the isthmus and genu of the human corpus callosum. Brain, 112(3), pp.799-835.\n",
    "\n",
    "[3] KERR, R. Movement control and maturation in elementary-grade children. Percept. Motor Skills 41, 151-154, 1975.\n",
    "\n",
    "[4] O'KUSKY, John et al. The corpus callosum is larger with right‐hemisphere cerebral speech dominance. Annals of neurology, v. 24, n. 3, p. 379-383, 1988.\n",
    "\n",
    "[5] SCHLAUG, Gottfried et al. Increased corpus callosum size in musicians. Neuropsychologia, v. 33, n. 8, p. 1047-1055, 1995.\n",
    "\n",
    "[6] KOZLOVSKIY, S.A.; Vartanov, A.V.; Pyasik, M.M.; Nikonova, E.Y. (2012). \"Functional role of corpus callosum regions in human memory functioning\". International Journal of Psychophysiology. 85 (3): 396–7. doi:10.1016/j.ijpsycho.2012.07.092.\n",
    "\n",
    "[7] GOLD, Brian T. et al. White matter integrity and vulnerability to Alzheimer's disease: preliminary findings and future directions. Biochimica et Biophysica Acta (BBA)-Molecular Basis of Disease, v. 1822, n. 3, p. 416-422, 2012. \n",
    "\n",
    "[8] OZTURK, Arzu et al. MRI of the corpus callosum in multiple sclerosis: association with disability. Multiple Sclerosis Journal, v. 16, n. 2, p. 166-177, 2010.\n",
    "\n",
    "[9] BACHMANN, S. et al. Corpus callosum in first-episode patients with schizophrenia–A magnetic resonance imaging study. Psychological medicine, v. 33, n. 06, p. 1019-1027, 2003.\n",
    "\n",
    "[10] LACERDA, Acioly LT et al. Anatomical MRI study of corpus callosum in unipolar depression. Journal of psychiatric research, v. 39, n. 4, p. 347-354, 2005.\n",
    "\n",
    "[11] SAMARTZIS, Lampros et al. White matter alterations in early stages of schizophrenia: a systematic review of diffusion tensor imaging studies. Journal of Neuroimaging, v. 24, n. 2, p. 101-110, 2014.\n",
    "\n",
    "[12] VON PLESSEN, Kerstin et al. Less developed corpus callosum in dyslexic subjects—a structural MRI study. Neuropsychologia, v. 40, n. 7, p. 1035-1044, 2002.\n",
    "\n",
    "[13] KULLMANN, S. et al. Compromised white matter integrity in obesity. Obesity Reviews, v. 16, n. 4, p. 273-281, 2015.\n",
    "\n",
    "[14] JIMÉNES, S., Cervera, R., Font, J. and Ingelmo, M., 2003. The epidemiology of systemic lupus erythematosus. Clinical reviews in allergy & immunology, 25(1), pp.3-11.\n",
    "\n",
    "[15] MCCUNE, W.J., Macguire, A., Aisen, A. and Gebarski, S., 1988. Identification of brain lesions in neuropsychiatric systemic lupus erythematosus by magnetic resonance scanning. Arthritis & Rheumatology, 31(2), pp.159-166.\n",
    "\n",
    "[16] APPENZELLER, S., Rondina, J.M., Li, L.M., Costallat, L.T. and Cendes, F., 2005. Cerebral and corpus callosum atrophy in systemic lupus erythematosus. Arthritis & Rheumatology, 52(9), pp.2783-2789.\n",
    "\n",
    "[17] BASSER, Peter J.; MATTIELLO, James; LEBIHAN, Denis. MR diffusion tensor spectroscopy and imaging. Biophysical journal, v. 66, n. 1, p. 259-267, 1994.\n",
    "\n",
    "[18] ABOITIZ, Francisco et al. Fiber composition of the human corpus callosum. Brain research, v. 598, n. 1, p. 143-153, 1992.\n",
    "\n",
    "[19] NIOGI, S.N., Mukherjee, P. and McCandliss, B.D., 2007. Diffusion tensor imaging segmentation of white matter structures using a Reproducible Objective Quantification Scheme (ROQS). Neuroimage, 35(1), pp.166-174.\n",
    "\n",
    "[20] COVER, G., Herrera, W., Bento, M., e Rittner, L. (2017). Corpus Callosum 2D Segmentation on Diffusion Tensor Imaging using Growing Neural Gas Network. Lecture Notes in Computational Vision and Biomechanics, (Accepted).\n",
    "\n",
    "[21] KOCHUNOV, P., Lancaster, J., Hardies, J., Thompson, P.M., Woods, R.P., Cody, J.D., Hale, D.E., Laird, A. and Fox, P.T., 2005. Mapping structural differences of the corpus callosum in individuals with 18q deletions using targetless regional spatial normalization. Human brain mapping, 24(4), pp.325-331.\n"
   ]
  },
  {
   "cell_type": "code",
   "execution_count": null,
   "metadata": {
    "collapsed": true
   },
   "outputs": [],
   "source": []
  }
 ],
 "metadata": {
  "kernelspec": {
   "display_name": "Python 2",
   "language": "python",
   "name": "python2"
  },
  "language_info": {
   "codemirror_mode": {
    "name": "ipython",
    "version": 2
   },
   "file_extension": ".py",
   "mimetype": "text/x-python",
   "name": "python",
   "nbconvert_exporter": "python",
   "pygments_lexer": "ipython2",
   "version": "2.7.13"
  }
 },
 "nbformat": 4,
 "nbformat_minor": 2
}
