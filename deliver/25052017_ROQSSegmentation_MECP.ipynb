{
 "cells": [
  {
   "cell_type": "code",
   "execution_count": 10,
   "metadata": {
    "collapsed": false
   },
   "outputs": [],
   "source": [
    "%matplotlib inline\n",
    "import matplotlib.pyplot as plt\n",
    "import matplotlib.image as mpimg\n",
    "import sqlite3\n",
    "import ia636 as ia\n",
    "import numpy as np\n",
    "import functions_will as FW\n",
    "import ia870 as MM\n",
    "from glob import glob\n",
    "import nibabel as ni\n",
    "from skimage import measure\n",
    "import scipy.misc as misc"
   ]
  },
  {
   "cell_type": "code",
   "execution_count": 22,
   "metadata": {
    "collapsed": false
   },
   "outputs": [
    {
     "name": "stdout",
     "output_type": "stream",
     "text": [
      "/Users/mariecp/DTI_IA369/candidate01\n",
      "/Users/mariecp/DTI_IA369/candidate01/mpf00.mnc\n"
     ]
    },
    {
     "name": "stderr",
     "output_type": "stream",
     "text": [
      "/Users/mariecp/anaconda/lib/python2.7/site-packages/ipykernel/__main__.py:26: DeprecationWarning: get_header method is deprecated.\n",
      "Please use the ``img.header`` property instead.\n",
      "\n",
      "* deprecated from version: 2.1\n",
      "* Will raise <class 'nibabel.deprecator.ExpiredDeprecationError'> as of version: 4.0\n",
      "/Users/mariecp/anaconda/lib/python2.7/site-packages/ipykernel/__main__.py:4: RuntimeWarning: invalid value encountered in divide\n"
     ]
    },
    {
     "data": {
      "text/plain": [
       "<matplotlib.image.AxesImage at 0x11b6c3450>"
      ]
     },
     "execution_count": 22,
     "metadata": {},
     "output_type": "execute_result"
    },
    {
     "data": {
      "image/png": "[encoded data removed]",
      "text/plain": [
       "<matplotlib.figure.Figure at 0x11b368f90>"
      ]
     },
     "metadata": {},
     "output_type": "display_data"
    },
    {
     "data": {
      "image/png": "[encoded data removed]",
      "text/plain": [
       "<matplotlib.figure.Figure at 0x11e2ea410>"
      ]
     },
     "metadata": {},
     "output_type": "display_data"
    }
   ],
   "source": [
    "dir_bas = \"/Users/mariecp/DTI_IA369\"\n",
    "candidate = str(dir_bas)+\"/candidate01\"\n",
    "\n",
    "wFA, FA, MD, fissure, eigvals, eigvects = run_analysis(candidate)\n",
    "escala = [3*FA[fissure,:,:].shape[-2],2*FA[fissure,:,:].shape[-1]]\n",
    "wFA_ms = wFA[fissure,:,:]\n",
    "eigvects_ms = abs(eigvects[0,:,fissure])\n",
    "\n",
    "#Posicionamento semente\n",
    "wFA_ss = np.load('/Users/mariecp/DTI_IA369/candidate01/segmentacao/wFA_ss.npy').astype(np.bool)\n",
    "escala = [wFA_ss.shape[-2],wFA_ss.shape[-1]]\n",
    "teste = mpimg.imread('/Users/mariecp/DTI_IA369/candidate01/mask_AF.png')[:,:,0]\n",
    "mask_p3 = np.array(teste).astype(np.bool)\n",
    "mask_sem = misc.imresize(mask_p3,escala).astype(bool)\n",
    "con_mask_cc = np.logical_xor(MM.iaero(mask_sem),mask_sem)\n",
    "\n",
    "seg_mask_seed_ero = MM.iaero(mask_sem)\n",
    "ar_cc = np.sum(seg_mask_seed_ero)\n",
    "in_random = np.random.randint(ar_cc)\n",
    "seed = [np.nonzero(seg_mask_seed_ero)[0][in_random],np.nonzero(seg_mask_seed_ero)[1][in_random]]\n",
    "\n",
    "#Primeiro critério de seleção: píxels com mesmo maior componente no primeiro autovetor do que a semente\n",
    "\n",
    "max_comp_in = np.argmax(eigvects_ms[:,seed[0],seed[1]],axis=0)\n",
    "max_comp_in = np.argmax(ia.iahistogram(max_comp_in))\n",
    "Cmax_seed = eigvects_ms[max_comp_in,seed[0],seed[1]]\n",
    "\n",
    "princ = np.argmax(eigvects_ms,axis=0)\n",
    "fsc = princ == max_comp_in\n",
    "\n",
    "#Segundo critério de seleção: Aplicação do Magnification Array (MA)\n",
    "\n",
    "alpha = 0.3\n",
    "beta = 0.3\n",
    "gamma = 0.5\n",
    "FA_ms = FA[fissure]\n",
    "MA = (FA_ms-np.amax(FA_ms)*alpha)/(np.amax(FA_ms)*beta)+gamma\n",
    "\n",
    "ssc = np.clip(np.amax(eigvects_ms*MA,axis=0),0,1)\n",
    "ssc = ssc*fsc\n",
    "\n",
    "mask_cc = ssc > Cmax_seed-0.1\n",
    "\n",
    "fr = MM.ialabel(mask_cc)\n",
    "fra = MM.iablob(fr,'area')\n",
    "mask_cc = fra == np.unique(fra)[-1]\n",
    "\n",
    "np.save('/Users/mariecp/DTI_IA369/candidate01/segmentacao/mask_ROQS', mask_cc)\n",
    "\n",
    "\n",
    "\n",
    "plt.figure(figsize=(10,10))\n",
    "plt.title('Mask CC')\n",
    "plt.imshow(teste,cmap='gray')\n",
    "plt.figure(figsize=(10,10))\n",
    "plt.title('Seg ROQS CC')\n",
    "plt.imshow(mask_cc,cmap='gray')\n"
   ]
  },
  {
   "cell_type": "code",
   "execution_count": 11,
   "metadata": {
    "collapsed": true
   },
   "outputs": [],
   "source": [
    "def getFissureSlice(eigvals, FA):\n",
    "    import numpy as np\n",
    "\n",
    "    MASK = (eigvals[0]>0)\n",
    "    MASKcount = MASK.sum(axis=2).sum(axis=1)\n",
    "    FAmean = FA.mean(axis=2).mean(axis=1)\n",
    "    FAmean[MASKcount<=0.90*MASKcount.max()] = 1\n",
    "    return (np.argmin(FAmean), FAmean)"
   ]
  },
  {
   "cell_type": "code",
   "execution_count": 12,
   "metadata": {
    "collapsed": true
   },
   "outputs": [],
   "source": [
    "def alignSagittalPlane(T):\n",
    "\n",
    "    # CANONICAL BASE (i,j,k) (HOMOGENEOUS COORDINATES)\n",
    "    c = np.array(\n",
    "        [[0,1,0,0],\n",
    "         [0,0,1,0],\n",
    "         [0,0,0,1],\n",
    "         [1,1,1,1]])\n",
    "\n",
    "    # FIND BASE V\n",
    "    V_ = np.dot(T,c)\n",
    "    V_ = V_[:3,1:] - V_[:3,0].reshape(3,1)\n",
    "\n",
    "    V = np.zeros((3,3))\n",
    "    V[np.arange(3),np.argmax(np.abs(V_), axis=1)] = 1\n",
    "    V_[V_==0] = 1\n",
    "    V = V * (V_/np.abs(V_))\n",
    "\n",
    "    # DESIRED BASE W\n",
    "    W = np.array([[1,0,0],\n",
    "                  [0,0,-1],\n",
    "                  [0,-1,0]])\n",
    "\n",
    "    R = np.dot(np.linalg.inv(W), V)\n",
    "    r = np.diag(np.ones(4))\n",
    "    r[:3,:3] = R\n",
    "    return r"
   ]
  },
  {
   "cell_type": "code",
   "execution_count": 13,
   "metadata": {
    "collapsed": true
   },
   "outputs": [],
   "source": [
    "def loadNiftiDTI(basedir, basename='dti', reorient=False):\n",
    "    from nibabel import nifti1\n",
    "\n",
    "\n",
    "    # ====== MAIN FUNCTION START ===========================\n",
    "    # PRE-LOAD THE FIRST EIGENVALUE VOLUME TO GET HEADER PARAMS\n",
    "    L = ni.load('{}/{}_L1.nii.gz'.format(basedir, basename))\n",
    "    s,m,n = L.get_data().shape\n",
    "\n",
    "    # LOAD AND BUILD EIGENVALUES VOLUME\n",
    "    evl = [L.get_data()]\n",
    "    evl.append(ni.load('{}/{}_L2.nii.gz'.format(basedir, basename)).get_data())\n",
    "    evl.append(ni.load('{}/{}_L3.nii.gz'.format(basedir, basename)).get_data())\n",
    "    evl = np.array(evl)\n",
    "    evl[evl<0] = 0\n",
    "\n",
    "    # LOAD AND BUILD EIGENVECTORS VOLUME\n",
    "    evt = [ni.load('{}/{}_V1.nii.gz'.format(basedir, basename)).get_data()]\n",
    "    evt.append(ni.load('{}/{}_V2.nii.gz'.format(basedir, basename)).get_data())\n",
    "    evt.append(ni.load('{}/{}_V3.nii.gz'.format(basedir, basename)).get_data())\n",
    "    evt = np.array(evt).transpose(0,4,1,2,3)\n",
    "\n",
    "    T = np.diag(np.ones(4))\n",
    "    if reorient:\n",
    "        # GET QFORM AFFINE MATRIX (see Nifti and nibabel specifications)\n",
    "        T = L.get_header().get_qform()\n",
    "\n",
    "        # COMPUTE ROTATION MATRIX TO ALIGN SAGITTAL PLANE\n",
    "        R = alignSagittalPlane(T)\n",
    "        evl, evt, T = rotateDTI(evl, evt, R)\n",
    "\n",
    "    return (evl, evt, T)"
   ]
  },
  {
   "cell_type": "code",
   "execution_count": 14,
   "metadata": {
    "collapsed": true
   },
   "outputs": [],
   "source": [
    "def getFractionalAnisotropy(eigvals):\n",
    "    import numpy as np\n",
    "    MD = eigvals.mean(axis=0)\n",
    "    FA = np.sqrt(3*((eigvals-MD)**2).sum(axis=0)) / np.sqrt(2*(eigvals**2).sum(axis=0))\n",
    "    return (FA,MD)"
   ]
  },
  {
   "cell_type": "code",
   "execution_count": 15,
   "metadata": {
    "collapsed": true
   },
   "outputs": [],
   "source": [
    "def rotateDTI(evl, evt, R):\n",
    "\n",
    "\n",
    "    s,m,n = evl[0].shape\n",
    "\n",
    "    # ====== DETERMINE TARGET DOMAIN SIZE AND A TRANSLATION TO FIT THE ROTATED IMAGE =======\n",
    "    # VERTICES FROM THE CUBE DEFINING THE ORIGINAL VOLUME\n",
    "    cube = np.array([[0,0,0,1],\n",
    "                     [0,0,n,1],\n",
    "                     [0,m,n,1],\n",
    "                     [0,m,0,1],\n",
    "                     [s,m,0,1],\n",
    "                     [s,0,0,1],\n",
    "                     [s,0,n,1],\n",
    "                     [s,m,n,1]]).transpose()\n",
    "\n",
    "    # COMPUTE THE FIT TRANSLATION AND COMBINE WITH THE ROTATION\n",
    "    cube = np.dot(R,cube)\n",
    "    t = -cube.min(axis=1)\n",
    "    Tr = np.diag(np.ones(4, dtype='float'))\n",
    "    Tr[:3,3] = t[:3]\n",
    "    T = np.dot(Tr,R)\n",
    "\n",
    "    # DEFINE THE TARGET DOMAIN\n",
    "    cube = cube + t.reshape(4,1)\n",
    "    domain = np.ceil(cube.max(axis=1))[:3].astype('int')\n",
    "\n",
    "    # === TRANSFORMATION ===\n",
    "    invT = np.linalg.inv(T)\n",
    "    N = domain.prod()\n",
    "\n",
    "    # GET INDICES IN TARGET SPACE\n",
    "    points = np.array(np.indices(domain)).reshape(3,N)\n",
    "    points = np.vstack((points, np.ones(N)))\n",
    "\n",
    "    # COMPUTE POINT COORDINATES WITH NEAREST NEIGHBOR INTERPOLATION\n",
    "    points = np.dot(invT, points)[:3]\n",
    "    points = np.round(points).astype('int')\n",
    "    out_of_space = np.logical_or(points<0, points>=np.array([s,m,n]).reshape(3,1)).max(axis=0)\n",
    "    points[:,out_of_space] = 0\n",
    "    z,y,x = points\n",
    "\n",
    "    # APPLY TRANSFORMATION TO THE EIGENVALUES VOLUME\n",
    "    eigenvals = evl[:,z,y,x].copy()\n",
    "    eigenvals[:,out_of_space] = 0\n",
    "    eigenvals.shape = (3,) + tuple(domain)\n",
    "\n",
    "    # APPLY ROTATION TO THE EIGENVECTORS\n",
    "    evt = evt.copy()\n",
    "    evt.shape = (3,3,s*m*n)\n",
    "    for i in xrange(3):\n",
    "        evt[i] = np.dot(R[:3,:3],evt[i])\n",
    "    evt.shape = (3,3,s,m,n)\n",
    "\n",
    "    # APPLY TRANSFORMATION TO THE EIGENVECTORS VOLUME\n",
    "    eigenvects = evt[:,:,z,y,x]\n",
    "    eigenvects[:,:,out_of_space] = 0\n",
    "    eigenvects.shape = (3,3) + tuple(domain)\n",
    "\n",
    "    return (eigenvals, eigenvects, T)"
   ]
  },
  {
   "cell_type": "code",
   "execution_count": 16,
   "metadata": {
    "collapsed": true
   },
   "outputs": [],
   "source": [
    "def run_analysis(rootdir):  \n",
    "\n",
    "    t1_filename = '{}/t1.nii.gz'.format(rootdir)\n",
    "    print(rootdir)\n",
    "    minc_filename = glob('{}/*.mnc'.format(rootdir))[0]\n",
    "    print(minc_filename)\n",
    "    tagfilename = glob('{}/*.tag'.format(rootdir))[0]\n",
    "    brain_mask_filename = '{}/nodif_brain_mask.nii.gz'.format(rootdir)\n",
    "    tag = np.loadtxt(tagfilename, skiprows=4, comments=';')\n",
    "\n",
    "\n",
    "    eigvals, eigvects, T3 = loadNiftiDTI(rootdir, reorient=True)\n",
    "\n",
    "    FA,MD = getFractionalAnisotropy(eigvals)\n",
    "    FA[np.isnan(FA)] = 0\n",
    "    FA[FA>1] = 1\n",
    "\n",
    "    fissure, FA_mean = getFissureSlice(eigvals, FA)\n",
    "\n",
    "    wFA = FA*abs(eigvects[0,0]) #weighted FA\n",
    "    \n",
    "    return wFA, FA, MD, fissure, eigvals, eigvects"
   ]
  },
  {
   "cell_type": "code",
   "execution_count": 17,
   "metadata": {
    "collapsed": true
   },
   "outputs": [],
   "source": [
    "def plot_mask(im,mask,mask2,escala,mask_name):\n",
    "    con_mask = np.logical_xor(mask,MM.iaero(mask))\n",
    "    con_mask = np.ma.masked_where(con_mask == 0,con_mask)\n",
    "    con_mask2 = np.logical_xor(mask2,MM.iaero(mask2))\n",
    "    con_mask2 = np.ma.masked_where(con_mask2==0,con_mask2)\n",
    "        \n",
    "    plt.figure()\n",
    "    plt.axis('off')\n",
    "    plt.imshow(im,cmap='gray')\n",
    "    plt.imshow(con_mask,cmap=mpl.cm.jet_r,interpolation='none')\n",
    "    plt.imshow(con_mask2,cmap=mpl.cm.brg_r,interpolation='none')\n",
    "    plt.show()"
   ]
  }
 ],
 "metadata": {
  "kernelspec": {
   "display_name": "Python 2",
   "language": "python",
   "name": "python2"
  },
  "language_info": {
   "codemirror_mode": {
    "name": "ipython",
    "version": 2
   },
   "file_extension": ".py",
   "mimetype": "text/x-python",
   "name": "python",
   "nbconvert_exporter": "python",
   "pygments_lexer": "ipython2",
   "version": "2.7.13"
  }
 },
 "nbformat": 4,
 "nbformat_minor": 2
}
