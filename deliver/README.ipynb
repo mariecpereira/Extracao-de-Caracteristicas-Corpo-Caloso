{
 "cells": [
  {
   "cell_type": "markdown",
   "metadata": {},
   "source": [
    "# READ ME - Corpus callosum diffusion properties differences in systemic lupus patients\n",
    "\n",
    " - Here you will find all the implementation necessary to reproduce the paper. \n",
    " - For an illustrative notebook [link](http://nbviewer.jupyter.org/github/mariecpereira/IA369Z/blob/ad3ffa24bb5d085fc6ad8d4601faad8e82077323/deliver/02062017_Paper_MECP.ipynb)\n",
    " - For CODE [link](https://github.com/mariecpereira/IA369Z/blob/master/deliver/02062017_Codebook.ipynb)"
   ]
  },
  {
   "cell_type": "markdown",
   "metadata": {},
   "source": [
    "## 1 - What is this repository for? \n",
    "\n",
    "This repository is part of the IA369Z project course from School of Electrical and Computer Engineering (FEEC) at the University of Campinas. The algorithms contained here are part of the study of the paper \"Corpus callosum diffusion properties differences in systemic lupus patients\" and describe the ROQS segmentation method, the Witelson and Hofer and Frahm's parcellation methods. As well as the statistical analysis of the diffusion properties of the subjects. "
   ]
  },
  {
   "cell_type": "markdown",
   "metadata": {},
   "source": [
    "## 2 - How do I get set up? \n",
    "\n",
    "Do not freak out! It is easier than you think. Let's get started: \n",
    "\n",
    "###  - First things first: Do you have Jupyter Notebook already installed?  \n",
    "   - If yes, go ahead and clone this repository. \n",
    "   - If no, go to Jupyter website to set it up in your computer [link](http://jupyter.org/install.html) and then clone this repository.\n",
    "   \n",
    "###  - Which libraries do I need? \n",
    "   - `dtimp` [download here](https://www.dropbox.com/s/cfgjexkqaa98yzz/dtimp.zip?dl=0)\n",
    "   - `functions_will` [download here](https://www.dropbox.com/s/2mlw8twa516581f/functions_will.zip?dl=0)\n",
    "   - `ia636` [download here](https://www.dropbox.com/s/z3vrav4mudh6h5e/ia636.zip?dl=0)\n",
    "   - `ia870` [download here](https://www.dropbox.com/s/o2g35kpbmb183mt/ia870.zip?dl=0)\n",
    "   \n",
    "###  - How do I get the data?\n",
    "   - For a data sample email: mariecpereira@gmail.com  "
   ]
  },
  {
   "cell_type": "markdown",
   "metadata": {},
   "source": [
    "## 3 - How do I run tests? \n",
    "\n",
    "- Once you got all the requirements listed above set up, all you need to do is to run and test the code/data.\n",
    "- Make sure that everything is at the same local folder."
   ]
  },
  {
   "cell_type": "markdown",
   "metadata": {},
   "source": [
    "## 4 - Who do I talk to? \n",
    "- mariecpereira@gmail.com"
   ]
  }
 ],
 "metadata": {
  "kernelspec": {
   "display_name": "Python 2",
   "language": "python",
   "name": "python2"
  },
  "language_info": {
   "codemirror_mode": {
    "name": "ipython",
    "version": 2
   },
   "file_extension": ".py",
   "mimetype": "text/x-python",
   "name": "python",
   "nbconvert_exporter": "python",
   "pygments_lexer": "ipython2",
   "version": "2.7.13"
  }
 },
 "nbformat": 4,
 "nbformat_minor": 2
}
