{
 "cells": [
  {
   "cell_type": "markdown",
   "metadata": {},
   "source": [
    "# Computacional methods for Corpus Callosum segmentation and parcelation \n",
    "\n",
    "`Mariana Eugênia de Carvalho Pereira - IA369Z`\n"
   ]
  },
  {
   "cell_type": "markdown",
   "metadata": {},
   "source": [
    "## Abstract\n",
    "\n"
   ]
  },
  {
   "cell_type": "markdown",
   "metadata": {},
   "source": [
    "## 1 - Introduction \n",
    "\n",
    "The corpus callosum (CC) is by far the largest fiber bundles in the human brain interconnecting the two cerebral hemispheres with more than 300 milllion fibers [1]. CC is the largest white matter structure in the brain, and despite its main functions, several studies have reported its relation to sexual dimorphism [2], handedness, and cerebral speech dominance [3]. Other morphometric studies have correlated CC's size in musicians [4] and positive semantic test performance [5]. The importance of CC has grown in the last decades due its changes in volume associated with neurodegenerative or inflammatory diseases such as Alzheimer's [6] and multiple sclerosis [7]. And also CC seems to be affected by other central nervous system diseases such as epilepsy [8], depression [9], schizophrenia [10], dyslexia [11], and obesity [12]. \n",
    "\n",
    "Diffusion MRI makes the study of neuronal fibers and tissues microstructure possible through the diffusion model. Diffusion MRI measures the dephasing of spins of protons in the presence of a spatially-varying magnetic field. The signal attenuation reflects the general mobility of water molecules, depending on temperature, viscosity and presence of large molecules. It also depends on barriers and obstacles imposed by microstructure, cell membranes, myelin sheaths and microtubules [13].\n",
    "\n",
    "Other MRI modality known as diffusion tensor imaging (DTI) revolutionized the field of  white matter mapping. DTI takes advantage of the macroscopic geometrical arrangement of white matter bundles that becomes apparent through diffusion MRI measurements [14]. Due to CC's well-oriented fibers perpendicular to the sagittal plane and its high anisotropy [15], DTI is capable of generating good CC visualization. \n",
    "\n",
    "Image segmentation is commonly used for measuring and visualizing the brain’s anatomical structures in MRI images, and to facilitate the analyses, the CC is commonly parceled into smaller portions. \n"
   ]
  },
  {
   "cell_type": "markdown",
   "metadata": {},
   "source": [
    "## 2 - Methodology\n",
    "\n",
    "\n",
    "###  2.1 - Segmentation Method of Reproducible Objective Quantification Scheme\n",
    "\n",
    "ROQS is a semi-automated process that requires 4 steps to segment white matter structures: (1) manual identification of anatomical structure and seed placement, (2) determination of thresholds and selection criteria, (3) creating a binary mask, and (4) calculating the boundary of the structure. The first step in ROQS for segmenting a structure is manually assigning a seed pixel within the boundary of the structure. This technique is tested by selecting a pixel in the corpus callosum from a midline sagittal color coded anisotropy map.\n",
    "\n",
    "[continue] \n",
    "\n",
    "- [ROQS Segmentation for one subject](http://github.com/mariecpereira/IA369Z/blob/master/deliver/25052017_ROQSSegmentation_MECP.ipynb)"
   ]
  },
  {
   "cell_type": "markdown",
   "metadata": {},
   "source": [
    "## 3 - Workflow\n",
    "\n",
    "<img src=\"https://github.com/mariecpereira/IA369Z/blob/master/figures/WorkFlow_Done.png">"
   ]
  },
  {
   "cell_type": "markdown",
   "metadata": {},
   "source": [
    "## 4 - Discussion"
   ]
  },
  {
   "cell_type": "markdown",
   "metadata": {},
   "source": [
    "## 5 - References \n",
    "\n",
    "[1] HOFER, Sabine; FRAHM, Jens. Topography of the human corpus callosum revisited—comprehensive fiber tractography using diffusion tensor magnetic resonance imaging. Neuroimage, v. 32, n. 3, p. 989-994, 2006.\n",
    "\n",
    "[2] \n",
    "\n",
    "[3] KERR, R. Movement control and maturation in elementary-grade children. Percept. Motor Skills 41, 151-154, 1975.\n",
    "\n",
    "[4] O'KUSKY, John et al. The corpus callosum is larger with right‐hemisphere cerebral speech dominance. Annals of neurology, v. 24, n. 3, p. 379-383, 1988.\n",
    "\n",
    "[4] SCHLAUG, Gottfried et al. Increased corpus callosum size in musicians. Neuropsychologia, v. 33, n. 8, p. 1047-1055, 1995.\n",
    "\n",
    "[6] KOZLOVSKIY, S.A.; Vartanov, A.V.; Pyasik, M.M.; Nikonova, E.Y. (2012). \"Functional role of corpus callosum regions in human memory functioning\". International Journal of Psychophysiology. 85 (3): 396–7. doi:10.1016/j.ijpsycho.2012.07.092.\n",
    "\n",
    "[7] GOLD, Brian T. et al. White matter integrity and vulnerability to Alzheimer's disease: preliminary findings and future directions. Biochimica et Biophysica Acta (BBA)-Molecular Basis of Disease, v. 1822, n. 3, p. 416-422, 2012. \n",
    "\n",
    "[8] OZTURK, Arzu et al. MRI of the corpus callosum in multiple sclerosis: association with disability. Multiple Sclerosis Journal, v. 16, n. 2, p. 166-177, 2010.\n",
    "\n",
    "[9] BACHMANN, S. et al. Corpus callosum in first-episode patients with schizophrenia–A magnetic resonance imaging study. Psychological medicine, v. 33, n. 06, p. 1019-1027, 2003.\n",
    "\n",
    "[10] LACERDA, Acioly LT et al. Anatomical MRI study of corpus callosum in unipolar depression. Journal of psychiatric research, v. 39, n. 4, p. 347-354, 2005.\n",
    "\n",
    "[11] SAMARTZIS, Lampros et al. White matter alterations in early stages of schizophrenia: a systematic review of diffusion tensor imaging studies. Journal of Neuroimaging, v. 24, n. 2, p. 101-110, 2014.\n",
    "\n",
    "[12] VON PLESSEN, Kerstin et al. Less developed corpus callosum in dyslexic subjects—a structural MRI study. Neuropsychologia, v. 40, n. 7, p. 1035-1044, 2002.\n",
    "\n",
    "[13] KULLMANN, S. et al. Compromised white matter integrity in obesity. Obesity Reviews, v. 16, n. 4, p. 273-281, 2015.\n",
    "\n",
    "[14] BASSER, Peter J.; MATTIELLO, James; LEBIHAN, Denis. MR diffusion tensor spectroscopy and imaging. Biophysical journal, v. 66, n. 1, p. 259-267, 1994.\n",
    "\n",
    "[15] ABOITIZ, Francisco et al. Fiber composition of the human corpus callosum. Brain research, v. 598, n. 1, p. 143-153, 1992.\n",
    "\n"
   ]
  }
 ],
 "metadata": {
  "kernelspec": {
   "display_name": "Python 2",
   "language": "python",
   "name": "python2"
  },
  "language_info": {
   "codemirror_mode": {
    "name": "ipython",
    "version": 2
   },
   "file_extension": ".py",
   "mimetype": "text/x-python",
   "name": "python",
   "nbconvert_exporter": "python",
   "pygments_lexer": "ipython2",
   "version": "2.7.13"
  }
 },
 "nbformat": 4,
 "nbformat_minor": 2
}
