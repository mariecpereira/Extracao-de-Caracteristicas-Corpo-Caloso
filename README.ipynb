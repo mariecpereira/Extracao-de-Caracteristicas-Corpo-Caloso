{
 "cells": [
  {
   "cell_type": "markdown",
   "metadata": {},
   "source": [
    "# READ ME - Corpus callosum diffusion properties differences in systemic lupus patients\n",
    "\n",
    " - Here you will find all the implementation necessary to reproduce the paper. \n",
    " - For an illustrative notebook [link](http://nbviewer.jupyter.org/github/mariecpereira/IA369Z/blob/0f9c68668f11ce301f9467db9b108b2d36f48e56/deliver/18062017_Paper_MECPv2.ipynb)\n",
    " - The research paper is available at [link](https://github.com/mariecpereira/IA369Z/blob/master/deliver/Paper_IA369Z-.pdf)\n",
    " "
   ]
  },
  {
   "cell_type": "markdown",
   "metadata": {},
   "source": [
    "## - What is this repository for? \n",
    "\n",
    "This repository is part of the IA369Z project course from School of Electrical and Computer Engineering (FEEC) at the University of Campinas. The algorithms contained here are part of the study of the paper \"Corpus callosum diffusion properties differences in systemic lupus patients\" and describe the ROQS segmentation method, the Witelson and Hofer and Frahm's parcellation methods. As well as the statistical analysis of the diffusion properties of the subjects. "
   ]
  },
  {
   "cell_type": "markdown",
   "metadata": {},
   "source": [
    "## - How do I get set up? \n",
    "\n",
    "Do not freak out! It is easier than you think. Let's get started: \n",
    "\n",
    "### 1 - Setting up the environment:\n",
    "\n",
    "There are two different manners to reproduce this paper using Jupyter Notebook: \n",
    " - through Anaconda (locally)\n",
    " - through Docker image \n",
    " \n",
    "###### It is advisable to use Docker, since the image will reproduce the promptly environment created by the author. If you rather use Anaconda instead, be aware of the fact that other installations you already had installed in your computer might affect reproducibility.\n",
    "\n",
    "####  1.1 - Anaconda:  \n",
    "\n",
    "- Install Anaconda 4.3.1 for Python 2.7.13 [Windows](https://www.continuum.io/downloads#windows), [Mac](https://www.continuum.io/downloads#macos) or [Linux](https://www.continuum.io/downloads#linux)\n",
    "\n",
    "- To install the neuroimaging package, open up a terminal and type the following command: `pip install nibabel`. For more information [link](http://nipy.org/nibabel/installation.html)\n",
    "\n",
    "- Go ahead and clone this repository typing the following command in your terminal: `git clone https://github.com/mariecpereira/IA369Z`\n",
    "\n",
    "- In the same terminal, type: `jupyter notebook` \n",
    "\n",
    "- In your browser, paste the URL, the IPython Notebook is running at: http://0.0.0.0:8888/\n",
    "\n",
    "- Follow the instructions and access the files into the deliver folder to reproduce the paper\n",
    "\n",
    "####  1.2 - Docker Image:  \n",
    "\n",
    "##### Docker on Mac (iOS version 10.10.5)\n",
    "\n",
    "- Install Docker [link](https://store.docker.com/editions/community/docker-ce-desktop-mac)\n",
    "\n",
    "- Go ahead and clone this repository typing the following command in your terminal: `git clone https://github.com/mariecpereira/IA369Z`\n",
    "\n",
    "- Open the terminal in your computer and enter the command to run the image and to create the container: `sudo docker run -p 8888:8888 -v <the path you cloned IA369Z repository>:/home/ds/notebooks mecp/ia369z`\n",
    "\n",
    "- In your browser, paste the URL, the IPython Notebook is running at: http://0.0.0.0:8888/\n",
    "\n",
    "- Follow the instructions and access the files into the deliver folder to reproduce the paper\n",
    "\n",
    "\n",
    "##### Docker on UBUNTU (version 16.04 LTS) [Reference](https://github.com/ecalio07/enron-paper/tree/master/environment)\n",
    "\n",
    "- Install Docker [link](https://store.docker.com/editions/community/docker-ce-server-ubuntu)\n",
    "\n",
    "- Go ahead and clone this repository typing the following command in your terminal: `git clone https://github.com/mariecpereira/IA369Z`\n",
    "\n",
    "- Open the terminal in your computer and enter the command to run the image and to create the container: `sudo docker run -d -p 8888:8888 -v <the path you cloned IA369Z repository>:/home/ds/notebooks mecp/ia369z`\n",
    "\n",
    "- In your browser, paste the URL, the IPython Notebook is running at: http://0.0.0.0:8888/\n",
    "\n",
    "- Follow the instructions and access the files into the deliver folder to reproduce the paper\n",
    "\n",
    "\n",
    "##### Docker on Windows (versions 8 and 10) [Reference](https://github.com/ecalio07/enron-paper/tree/master/environment)\n",
    "\n",
    "- Install Docker, for Windows 10 Professional and Enterprise 64-bits [link](https://store.docker.com/editions/community/docker-ce-desktop-windows) OR Install Docker Toolbox for other Windows versions [link](https://www.docker.com/products/docker-toolbox)\n",
    "\n",
    "- Go ahead and clone this repository typing the following command in your terminal, cloned directory must be inside C:\\Users\\{user} directory: `git clone https://github.com/mariecpereira/IA369Z`\n",
    "\n",
    "- Open the terminal in your computer and enter the command to run the image and to create the container: `docker run -p 8888:8888 -v <the path you cloned IA369Z repository>:/home/ds/notebooks mecp/ia369z`\n",
    "\n",
    "- In your browser, paste the URL, the IPython Notebook is running at: http://192.168.99.100:8888\n",
    "\n",
    "- Follow the instructions and access the files into the deliver folder to reproduce the paper\n",
    "\n",
    "\n",
    "### 2 - Which libraries do I need? \n",
    "\n",
    "It does not matter if you are reproducing this paper using Anaconda or Docker, it is necessary to download the following libraries into the EXACTLY root path (deliver folder) you cloned this repository.  \n",
    "\n",
    "   - `dtimp` [download here](https://www.dropbox.com/s/cfgjexkqaa98yzz/dtimp.zip?dl=0)\n",
    "   - `functions_will` [download here](https://www.dropbox.com/s/2mlw8twa516581f/functions_will.zip?dl=0)\n",
    "   - `ia636` [download here](https://www.dropbox.com/s/z3vrav4mudh6h5e/ia636.zip?dl=0)\n",
    "   - `ia870` [download here](https://www.dropbox.com/s/o2g35kpbmb183mt/ia870.zip?dl=0)\n",
    "   \n",
    "### 3 - How do I get the data?\n",
    "\n",
    "For a data sample email: mariecpereira@gmail.com  "
   ]
  },
  {
   "cell_type": "markdown",
   "metadata": {},
   "source": [
    "## - How do I run tests? \n",
    "\n",
    "Once you got all the requirements listed above set up, all you need to do is to run and test the code/data. Make sure that everything is at the same local folder."
   ]
  },
  {
   "cell_type": "markdown",
   "metadata": {},
   "source": [
    "## - Who do I talk to? \n",
    "For questions or more details email: mariecpereira@gmail.com"
   ]
  }
 ],
 "metadata": {
  "kernelspec": {
   "display_name": "Python 2",
   "language": "python",
   "name": "python2"
  },
  "language_info": {
   "codemirror_mode": {
    "name": "ipython",
    "version": 2
   },
   "file_extension": ".py",
   "mimetype": "text/x-python",
   "name": "python",
   "nbconvert_exporter": "python",
   "pygments_lexer": "ipython2",
   "version": "2.7.6"
  }
 },
 "nbformat": 4,
 "nbformat_minor": 2
}
